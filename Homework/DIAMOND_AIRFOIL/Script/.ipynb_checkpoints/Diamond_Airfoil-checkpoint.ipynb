{
  "nbformat": 4,
  "nbformat_minor": 0,
  "metadata": {
    "colab": {
      "name": "Diamond Airfoil.ipynb",
      "provenance": [],
      "collapsed_sections": []
    },
    "kernelspec": {
      "name": "python3",
      "display_name": "Python 3"
    }
  },
  "cells": [
    {
      "cell_type": "code",
      "metadata": {
        "id": "qmSpzBfu8ytU"
      },
      "source": [
        "%%capture\n",
        "# Spero tanto che fenics sia inutile in questo caso\n",
        "# !apt-get install -y -qq software-properties-common python-software-properties module-init-tools\n",
        "# !add-apt-repository -y ppa:fenics-packages/fenics\n",
        "# !apt-get update -qq\n",
        "# !apt install -y --no-install-recommends fenics\n",
        "# !rm -rf *\n",
        "# from fenics import *\n",
        "import matplotlib.pyplot as plt\n",
        "import numpy as np \n",
        "import scipy as sp\n",
        "from math import *\n",
        "from scipy.optimize import fsolve"
      ],
      "execution_count": 1,
      "outputs": []
    },
    {
      "cell_type": "code",
      "metadata": {
        "id": "ekgglhzA89bC"
      },
      "source": [
        "# define the geometry -> angles in degrees \n",
        "#         /\\\n",
        "#        /  \\\n",
        "#       /    \\\n",
        "# <eps1/      \\<eps2 \n",
        "# <eps3\\      /<eps4     alpha = AoA\n",
        "#       \\    /\n",
        "#        \\  /\n",
        "#         \\/\n",
        "#eps1 = 10/180*pi\n",
        "#eps2 = 10/180*pi \n",
        "#eps3 = 6/180*pi \n",
        "#eps4 = 6/180*pi \n",
        "eps1 = atan(0.15)\n",
        "eps2 = atan(0.15)\n",
        "eps3 = atan(0.15)\n",
        "eps4 = atan(0.15)\n",
        "chord = 1\n",
        "c_b = chord*tan(eps2)/(tan(eps1)+tan(eps2))\n",
        "c_c = chord - chord*tan(eps2)/(tan(eps1)+tan(eps2))\n",
        "c_d = chord*tan(eps4)/(tan(eps3)+tan(eps4))\n",
        "c_e = chord - chord*tan(eps4)/(tan(eps3)+tan(eps4))\n",
        "x_top = c_b\n",
        "y_top = c_b*tan(eps1)\n",
        "x_bot = c_d \n",
        "y_bot = -c_d*tan(eps3)"
      ],
      "execution_count": 2,
      "outputs": []
    },
    {
      "cell_type": "code",
      "metadata": {
        "colab": {
          "base_uri": "https://localhost:8080/"
        },
        "id": "JD9cb-6yxwOL",
        "outputId": "5268e78e-d165-4b19-e5d8-bc7b62ee1956"
      },
      "source": [
        "print(c_b)\n",
        "print(c_c)\n",
        "print(c_d)\n",
        "print(c_e)"
      ],
      "execution_count": 3,
      "outputs": [
        {
          "output_type": "stream",
          "text": [
            "0.5\n",
            "0.5\n",
            "0.5\n",
            "0.5\n"
          ],
          "name": "stdout"
        }
      ]
    },
    {
      "cell_type": "code",
      "metadata": {
        "id": "_FWxXt02AifS",
        "colab": {
          "base_uri": "https://localhost:8080/"
        },
        "outputId": "87406261-d323-4dcf-8fd7-5cea21a10f32"
      },
      "source": [
        "eps1*180/pi"
      ],
      "execution_count": 4,
      "outputs": [
        {
          "output_type": "execute_result",
          "data": {
            "text/plain": [
              "8.530765609948133"
            ]
          },
          "metadata": {
            "tags": []
          },
          "execution_count": 4
        }
      ]
    },
    {
      "cell_type": "code",
      "metadata": {
        "id": "fPV5CUYl97kt"
      },
      "source": [
        "# define the upstream conditions \n",
        "Ma = 1.7\n",
        "alpha = 4*pi/180\n",
        "gamma = 1.4\n",
        "Pa = 1e5\n",
        "Ta = 300\n",
        "R = 287.058\n",
        "rhoa = Pa/R/Ta"
      ],
      "execution_count": 5,
      "outputs": []
    },
    {
      "cell_type": "code",
      "metadata": {
        "id": "EXhsxI8YAakN"
      },
      "source": [
        "def obl_shk_ang(beta, *data):\n",
        "  theta, Ml, gamma = data\n",
        "  return 2/tan(beta)*((Ml**2 * sin(beta)**2 - 1)/(Ml**2 * (gamma + cos(2*beta)) + 2)) - tan(theta)\n",
        "def obl_shk_M_n(Ml_n, gamma):\n",
        "  return sqrt((Ml_n**2 + 2/(gamma-1))/(2*gamma/(gamma-1)*Ml_n**2 - 1))\n",
        "def obl_shk_P(Ml, beta, gamma):\n",
        "  return (2 * gamma * Ml**2 * sin(beta)**2 - (gamma-1))/(gamma + 1)\n",
        "def obl_shk_rho(Ml, beta, gamma):\n",
        "  return ((gamma+1)*Ml**2*sin(beta)**2)/((gamma-1)*Ml**2*sin(beta)**2+2)\n",
        "def obl_shk_T(Ml, beta, gamma):\n",
        "  return (2*gamma*Ml**2*sin(beta)**2-(gamma-1))*((gamma-1)*Ml**2*sin(beta)**2+2)/((gamma+1)**2*Ml**2*sin(beta)**2)\n",
        "\n",
        "def prandtl_meyer_angle(M):\n",
        "  return sqrt((gamma+1)/(gamma-1))*atan(sqrt((gamma-1)/(gamma+1)*(M**2-1)))-atan(sqrt(M**2-1))\n",
        "def M_from_nu(M, *data2):\n",
        "  gamma, nu = data2\n",
        "  return sqrt((gamma+1)/(gamma-1))*atan(sqrt((gamma-1)/(gamma+1)*(M**2-1)))-atan(sqrt(M**2-1)) - nu\n",
        "def isoentropic_P(Ml, M2, gamma):\n",
        "  return (1 + (gamma-1)/2*M1**2)**(gamma/(gamma-1)) / (1 + (gamma-1)/2*M2**2)**(gamma/(gamma-1)) \n",
        "def isoentropic_rho(Ml, M2, gamma):\n",
        "  return (1 + (gamma-1)/2*M1**2)**(1/(gamma-1)) / (1 + (gamma-1)/2*M2**2)**(1/(gamma-1))\n",
        "def isoentropic_T(Ml, M2, gamma):\n",
        "  return (1 + (gamma-1)/2*M1**2) / (1 + (gamma-1)/2*M2**2)\n",
        "\n",
        "# Function definitions can include multi-output.\n",
        "def isoentropic(Ml,M2,gamma):\n",
        "  \"This function calculates the fraction of actual values of P, rho and T with respect to the state 1\" \n",
        "  \"in an isoentropic expansion of a gas with given isoentropi coefficient gamma between the Mach values Ml and M2\"\n",
        "  P_rapp = (1 + (gamma-1)/2*M1**2)**(gamma/(gamma-1)) / (1 + (gamma-1)/2*M2**2)**(gamma/(gamma-1)) \n",
        "  rho_rapp = (1 + (gamma-1)/2*M1**2)**(1/(gamma-1)) / (1 + (gamma-1)/2*M2**2)**(1/(gamma-1))\n",
        "  T_rapp = (1 + (gamma-1)/2*M1**2) / (1 + (gamma-1)/2*M2**2)\n",
        "  return P_rapp, rho_rapp, T_rapp\n",
        "\n",
        "def obl_shk(Ml, beta, gamma):\n",
        "  \"This function calculates the jump in P, rho and T across a shockwave with Mach of Ml\"\n",
        "  \" and a shock angle beta, for a gas with a given isoentropic coefficeint gamma\"\n",
        "  P_rapp = (2 * gamma * Ml**2 * sin(beta)**2 - (gamma-1))/(gamma + 1)\n",
        "  rho_rapp = ((gamma+1)*Ml**2*sin(beta)**2)/((gamma-1)*Ml**2*sin(beta)**2+2)\n",
        "  T_rapp = (2*gamma*Ml**2*sin(beta)**2-(gamma-1))*((gamma-1)*Ml**2*sin(beta)**2+2)/((gamma+1)**2*Ml**2*sin(beta)**2)\n",
        "  return P_rapp, rho_rapp, T_rapp"
      ],
      "execution_count": 6,
      "outputs": []
    },
    {
      "cell_type": "code",
      "metadata": {
        "id": "Qta6PTMF_sp_"
      },
      "source": [
        "# Zone b \n",
        "# zone 1 is zone a\n",
        "M1 = Ma\n",
        "P1 = Pa \n",
        "T1 = Ta\n",
        "rho1 = rhoa\n",
        "\n",
        "if eps1-alpha > 0: \n",
        "  # Oblique shock\n",
        "  theta = eps1-alpha\n",
        "  beta_0 = 2*theta # 2 volte theta funge da first try\n",
        "  data = (theta, M1, gamma)\n",
        "  beta = fsolve(obl_shk_ang, beta_0, args = data)\n",
        "  M1_n = M1*sin(beta)\n",
        "  M2_n = obl_shk_M_n(M1_n, gamma)\n",
        "  M2 = M2_n/sin(beta-theta)\n",
        "  P_rapp, rho_rapp, T_rapp = obl_shk(M1, beta, gamma)\n",
        "  beta1 = beta\n",
        "else: \n",
        "  # Expansion fan\n",
        "  theta = alpha-eps1\n",
        "  nu2 = theta + prandtl_meyer_angle(M1) \n",
        "  data2 = (gamma, nu2)\n",
        "  M2 = fsolve(M_from_nu, M1, args = data2)  # in questo caso M1 funge da \"first try\"\n",
        "  P_rapp, rho_rapp, T_rapp = isoentropic(M1, M2, gamma)\n",
        "  # mu1 = asin(1/M1) # inclinazione inizio ventaglio di espansione\n",
        "  # mu2 = asin(1/M2) # inclinazione fine ventaglio di espansione\n",
        "\n",
        "# save data for zone b\n",
        "Mb = M2 \n",
        "Pb = P_rapp*P1\n",
        "Tb = T_rapp*T1\n",
        "rhob = rho_rapp*rho1\n"
      ],
      "execution_count": 7,
      "outputs": []
    },
    {
      "cell_type": "code",
      "metadata": {
        "id": "FGra2ppYWO8Q",
        "colab": {
          "base_uri": "https://localhost:8080/"
        },
        "outputId": "fd2afca9-9a2f-468a-9e67-75933cc49864"
      },
      "source": [
        "print(Mb)\n",
        "print(Pb)\n",
        "print(Tb)\n",
        "print(rhob)"
      ],
      "execution_count": 8,
      "outputs": [
        {
          "output_type": "stream",
          "text": [
            "1.5456051954431185\n",
            "125664.75703695357\n",
            "320.3455814972266\n",
            "1.3665486675058875\n"
          ],
          "name": "stdout"
        }
      ]
    },
    {
      "cell_type": "code",
      "metadata": {
        "id": "5RAI90iX1GdZ",
        "colab": {
          "base_uri": "https://localhost:8080/"
        },
        "outputId": "64fac836-24b2-4103-8df9-ae344a0acbb1"
      },
      "source": [
        "# Zone c \n",
        "# zone 1 is now zone b\n",
        "M1 = Mb\n",
        "P1 = Pb \n",
        "T1 = Tb\n",
        "rho1 = rhob\n",
        " \n",
        "# Expansion fan for sure\n",
        "theta = eps1 + eps2\n",
        "nu2 = theta + prandtl_meyer_angle(M1) \n",
        "data2 = (gamma, nu2)\n",
        "M2 = fsolve(M_from_nu, M1, args = data2)  # in questo caso M1 funge da \"first try\"\n",
        "P_rapp, rho_rapp, T_rapp = isoentropic(M1, M2, gamma)\n",
        "mu1 = asin(1/M1) # inclinazione inizio ventaglio di espansione\n",
        "#espansion\n",
        "mu2 = asin(1/M2) # inclinazione fine ventaglio di espansione\n",
        "print((mu1+eps1)*180/pi) \n",
        "print((mu2+eps1)*180/pi) \n",
        "# save data for zone c\n",
        "Mc = M2 \n",
        "Pc = P_rapp*P1\n",
        "Tc = T_rapp*T1\n",
        "rhoc = rho_rapp*rho1"
      ],
      "execution_count": 9,
      "outputs": [
        {
          "output_type": "stream",
          "text": [
            "48.84624136063115\n",
            "36.308356973016004\n"
          ],
          "name": "stdout"
        }
      ]
    },
    {
      "cell_type": "code",
      "metadata": {
        "id": "vNbV5UjkWsVF",
        "colab": {
          "base_uri": "https://localhost:8080/"
        },
        "outputId": "a681f51f-b30d-493f-a861-b3b0e28f650c"
      },
      "source": [
        "print(Mc)\n",
        "print(Pc)\n",
        "print(Tc)\n",
        "print(rhoc)"
      ],
      "execution_count": 10,
      "outputs": [
        {
          "output_type": "stream",
          "text": [
            "[2.14573561]\n",
            "[50191.5478086]\n",
            "[246.45515557]\n",
            "[0.70945201]\n"
          ],
          "name": "stdout"
        }
      ]
    },
    {
      "cell_type": "code",
      "metadata": {
        "id": "px0HIwL2162_",
        "colab": {
          "base_uri": "https://localhost:8080/"
        },
        "outputId": "726934d1-d5c7-4818-db5c-9bb5ba8d691d"
      },
      "source": [
        "# Zone d \n",
        "M1 = Ma\n",
        "P1 = Pa \n",
        "T1 = Ta\n",
        " \n",
        "if eps3+alpha > 0: \n",
        "  # Oblique shock\n",
        "  theta = eps3+alpha\n",
        "  beta_0 = 2*theta # 2 volte theta funge da first try\n",
        "  data = (theta, M1, gamma)\n",
        "  beta = fsolve(obl_shk_ang, beta_0, args = data)\n",
        "  print(beta)\n",
        "  M1_n = M1*sin(beta)\n",
        "  M2_n = obl_shk_M_n(M1_n, gamma)\n",
        "  M2 = M2_n/sin(beta-theta)\n",
        "  P_rapp, rho_rapp, T_rapp = obl_shk(M1, beta, gamma)\n",
        "  beta2 = beta\n",
        "else: \n",
        "  # Expansion fan\n",
        "  theta = -(eps3+alpha)\n",
        "  nu2 = theta + prandtl_meyer_angle(M1)\n",
        "  data2 = (gamma, nu2)\n",
        "  M2 = fsolve(M_from_nu, M1, args = data2)  # in questo caso M1 funge da \"first try\"\n",
        "  P_rapp, rho_rapp, T_rapp = isoentropic(M1, M2, gamma)\n",
        "  # mu1 = 1/sin(1/M1) # inclinazione inizio ventaglio di espansione\n",
        "  # mu2 = 1/sin(1/M2) # inclinazione fine ventaglio di espansione\n",
        " \n",
        "# save data for zone d\n",
        "Md = M2 \n",
        "Pd = P_rapp*P1\n",
        "Td = T_rapp*T1"
      ],
      "execution_count": 11,
      "outputs": [
        {
          "output_type": "stream",
          "text": [
            "[0.89099526]\n"
          ],
          "name": "stdout"
        }
      ]
    },
    {
      "cell_type": "code",
      "metadata": {
        "id": "xA8yu2yHW38J",
        "colab": {
          "base_uri": "https://localhost:8080/"
        },
        "outputId": "0cea3241-228c-4ac1-dac7-ee72a6c4a93a"
      },
      "source": [
        "print(Md)\n",
        "print(Pd/Pa)\n"
      ],
      "execution_count": 12,
      "outputs": [
        {
          "output_type": "stream",
          "text": [
            "1.2443868117336667\n",
            "1.8725640349447636\n"
          ],
          "name": "stdout"
        }
      ]
    },
    {
      "cell_type": "code",
      "metadata": {
        "id": "j0OyVP8e9ZLP"
      },
      "source": [
        "# Zone e \n",
        "# zone 1 is now zone d\n",
        "M1 = Md\n",
        "P1 = Pd \n",
        "T1 = Td\n",
        "\n",
        "# Expansion fan for sure\n",
        "theta = eps3 + eps4\n",
        "nu2 = theta + prandtl_meyer_angle(M1) \n",
        "data2 = (gamma, nu2)\n",
        "M2 = fsolve(M_from_nu, M1, args = data2)  # in questo caso M1 funge da \"first try\"\n",
        "P_rapp, rho_rapp, T_rapp = isoentropic(M1, M2, gamma)\n",
        "# mu1 = 1/sin(1/M1) # inclinazione inizio ventaglio di espansione\n",
        "# mu2 = 1/sin(1/M2) # inclinazione fine ventaglio di espansione\n",
        "\n",
        "# save data for zone c\n",
        "Me = M2 \n",
        "Pe = P_rapp*P1\n",
        "Te = T_rapp*T1"
      ],
      "execution_count": 13,
      "outputs": []
    },
    {
      "cell_type": "code",
      "metadata": {
        "id": "YxdS-sMpW-CZ",
        "colab": {
          "base_uri": "https://localhost:8080/"
        },
        "outputId": "5d1543b4-5f91-4375-8f24-ddf3d395c2e8"
      },
      "source": [
        "print(Me)\n",
        "print(Pe)"
      ],
      "execution_count": 14,
      "outputs": [
        {
          "output_type": "stream",
          "text": [
            "[1.83539867]\n",
            "[79365.52268568]\n"
          ],
          "name": "stdout"
        }
      ]
    },
    {
      "cell_type": "code",
      "metadata": {
        "id": "ZYc1wR5J-YGx"
      },
      "source": [
        "# Aero coefficients \n",
        "Fb = c_b/cos(eps1)*Pb*np.array([ sin(eps1), -cos(eps1)])\n",
        "Fc = c_c/cos(eps2)*Pc*np.array([-sin(eps2), -cos(eps2)])\n",
        "Fd = c_d/cos(eps3)*Pd*np.array([ sin(eps3),  cos(eps3)])\n",
        "Fe = c_e/cos(eps4)*Pe*np.array([-sin(eps4),  cos(eps2)])\n",
        "F = Fb + Fc + Fd + Fe\n",
        "cL = np.dot(F,np.array([-sin(alpha),cos(alpha)]))/(0.5*gamma*chord*Pa*Ma**2)\n",
        "cD = np.dot(F,np.array([cos(alpha),sin(alpha)]))/(0.5*gamma*chord*Pa*Ma**2)\n",
        "cM = (np.cross(Fb,np.array([c_b/2, c_b/2*tan(eps1)])) + \n",
        "      np.cross(Fc,np.array([chord-c_c/2,c_c/2*tan(eps2)])) + \n",
        "      np.cross(Fd,np.array([c_d/2,-c_d/2*tan(eps3)])) + \n",
        "      np.cross(Fe,np.array([chord-c_e/2,-c_e/2*tan(eps4)])))/(0.5*gamma* chord**2 *Pa*Ma**2)"
      ],
      "execution_count": 15,
      "outputs": []
    },
    {
      "cell_type": "code",
      "metadata": {
        "id": "DuDYl31gmIv3",
        "colab": {
          "base_uri": "https://localhost:8080/"
        },
        "outputId": "f6efb86c-c2b7-4892-e05b-fe752e2e40af"
      },
      "source": [
        "print(cL)\n",
        "print(cD)\n",
        "print(cM)"
      ],
      "execution_count": 16,
      "outputs": [
        {
          "output_type": "stream",
          "text": [
            "0.2190457142685404\n",
            "0.08346293457970172\n",
            "-0.09258710374401942\n"
          ],
          "name": "stdout"
        }
      ]
    },
    {
      "cell_type": "markdown",
      "metadata": {
        "id": "MJhVy_1VSCy-"
      },
      "source": [
        "Da ora in poi è solo per la slip line"
      ]
    },
    {
      "cell_type": "code",
      "metadata": {
        "id": "fwIye_lPSBzm"
      },
      "source": [
        "# ora andiamo alla ricerca della slip line, devo capire in quale caso sono (2 shock, 1 shock e un ventaglio, un ventaglio e 1 shock)\n",
        "# caso 1 - shock tra c ed f, continuità tra e ed g \n",
        "M1 = Mc \n",
        "P1 = Pc \n",
        "T1 = Tc\n",
        "\n",
        "theta = eps2 + eps4\n",
        "beta_0 = 2*theta # 2 volte theta funge da first try\n",
        "data = (theta, M1, gamma)\n",
        "beta = fsolve(obl_shk_ang, beta_0, args = data)\n",
        "M1_n = M1*sin(beta)\n",
        "M2_n = obl_shk_M_n(M1_n, gamma)\n",
        "M2 = M2_n/sin(beta-theta)\n",
        "P_rapp, rho_rapp, T_rapp = obl_shk(M1, beta, gamma)\n",
        "\n",
        "Mf = M2 \n",
        "Pf = P_rapp*P1\n",
        "Tf = T_rapp*T1"
      ],
      "execution_count": 17,
      "outputs": []
    },
    {
      "cell_type": "code",
      "metadata": {
        "id": "kLAukPf8bPzd",
        "colab": {
          "base_uri": "https://localhost:8080/"
        },
        "outputId": "c55fd811-e27e-4654-b66e-5ce96f9e20fe"
      },
      "source": [
        "Pe-Pf"
      ],
      "execution_count": 18,
      "outputs": [
        {
          "output_type": "execute_result",
          "data": {
            "text/plain": [
              "array([-46595.88456108])"
            ]
          },
          "metadata": {
            "tags": []
          },
          "execution_count": 18
        }
      ]
    },
    {
      "cell_type": "code",
      "metadata": {
        "id": "mTC4kzfoRcxH"
      },
      "source": [
        "# caso 2 - shock tra e ed g, continuità tra c ed f \n",
        "M1 = Me \n",
        "P1 = Pe \n",
        "T1 = Te\n",
        "\n",
        "theta = eps2 + eps4\n",
        "beta_0 = 2*theta # 2 volte theta funge da first try\n",
        "data = (theta, M1, gamma)\n",
        "beta = fsolve(obl_shk_ang, beta_0, args = data)\n",
        "M1_n = M1*sin(beta)\n",
        "M2_n = obl_shk_M_n(M1_n, gamma)\n",
        "M2 = M2_n/sin(beta-theta)\n",
        "P_rapp, rho_rapp, T_rapp = obl_shk(M1, beta, gamma)\n",
        "\n",
        "Mg = M2 \n",
        "Pg = P_rapp*P1\n",
        "Tg = T_rapp*T1"
      ],
      "execution_count": 19,
      "outputs": []
    },
    {
      "cell_type": "code",
      "metadata": {
        "id": "xpc750oui1Kf",
        "colab": {
          "base_uri": "https://localhost:8080/"
        },
        "outputId": "ddd7d9c7-3c08-4c08-c4c1-86d5ed5fb88f"
      },
      "source": [
        "Pc-Pg"
      ],
      "execution_count": 20,
      "outputs": [
        {
          "output_type": "execute_result",
          "data": {
            "text/plain": [
              "array([-139834.67454871])"
            ]
          },
          "metadata": {
            "tags": []
          },
          "execution_count": 20
        }
      ]
    },
    {
      "cell_type": "code",
      "metadata": {
        "id": "qOP79Dmw8wOj"
      },
      "source": [
        "# Le tre funzioni per risolvere il sistema non lineare nei tre casi\n",
        "def case1(Delta, *data3):\n",
        "  Msopra, Psopra, Tsopra, Msotto, Psotto, Tsotto, gamma, eps2, eps4 = data3\n",
        "  theta = eps2 + Delta\n",
        "  beta_0 = 2*theta # 2 volte theta funge da first try\n",
        "  data = (theta, Msopra, gamma)\n",
        "  beta = fsolve(obl_shk_ang, beta_0, args = data)\n",
        "  Msopra_n = Msopra*sin(beta)\n",
        "  M2sopra_n = obl_shk_M_n(Msopra_n, gamma)\n",
        "  M2sopra = M2sopra_n/sin(beta-theta)\n",
        "  P_rappsopra, rho_rappsopra, T_rappsopra = obl_shk(Msopra, beta, gamma)\n",
        "\n",
        "  theta = Delta - eps4\n",
        "  nu2 = theta + prandtl_meyer_angle(Msotto)\n",
        "  data2 = (gamma, nu2)\n",
        "  M2sotto = fsolve(M_from_nu, Msotto, args = data2)  # in questo caso M1 funge da \"first try\"\n",
        "  P_rappsotto, rho_rappsotto, T_rappsotto = isoentropic(Msotto, M2sotto, gamma)\n",
        "  return Psopra*P_rappsopra - Psotto*P_rappsotto\n",
        "\n",
        "def case2(Delta, *data3):\n",
        "  Msopra, Psopra, Tsopra, Msotto, Psotto, Tsotto, gamma, eps2, eps4 = data3\n",
        "\n",
        "  theta = Delta - eps2\n",
        "  nu2 = theta + prandtl_meyer_angle(Msopra)\n",
        "  data2 = (gamma, nu2)\n",
        "  M2sopra = fsolve(M_from_nu, Msopra, args = data2)  # in questo caso M1 funge da \"first try\"\n",
        "  P_rappsopra, rho_rappsopra, T_rappsopra = isoentropic(Msopra, M2sopra, gamma)\n",
        "\n",
        "  theta = eps4 + Delta\n",
        "  beta_0 = 2*theta # 2 volte theta funge da first try\n",
        "  data = (theta, Msotto, gamma)\n",
        "  beta = fsolve(obl_shk_ang, beta_0, args = data)\n",
        "  Msotto_n = Msotto*sin(beta)\n",
        "  M2sotto_n = obl_shk_M_n(Msotto_n, gamma)\n",
        "  M2sotto = M2sotto_n/sin(beta-theta)\n",
        "  P_rappsotto, rho_rappsotto, T_rappsotto = obl_shk(Msotto, beta, gamma)\n",
        "\n",
        "  return -Psopra*P_rappsopra + Psotto*P_rappsotto\n",
        "\n",
        "def case3(Delta, *data3):\n",
        "  Msopra, Psopra, Tsopra, Msotto, Psotto, Tsotto, gamma, eps2, eps4 = data3\n",
        "\n",
        "  theta = eps2 + Delta\n",
        "  beta_0 = 2*theta # 2 volte theta funge da first try\n",
        "  data = (theta, Msopra, gamma)\n",
        "  beta = fsolve(obl_shk_ang, beta_0, args = data)\n",
        "  Msopra_n = Msopra*sin(beta)\n",
        "  M2sopra_n = obl_shk_M_n(Msopra_n, gamma)\n",
        "  M2sopra = M2sopra_n/sin(beta-theta)\n",
        "  P_rappsopra, rho_rappsopra, T_rappsopra = obl_shk(Msopra, beta, gamma)\n",
        "\n",
        "  theta = eps4 - Delta\n",
        "  beta_0 = 2*theta # 2 volte theta funge da first try\n",
        "  data = (theta, Msotto, gamma)\n",
        "  beta = fsolve(obl_shk_ang, beta_0, args = data)\n",
        "  Msotto_n = Msotto*sin(beta)\n",
        "  M2sotto_n = obl_shk_M_n(Msotto_n, gamma)\n",
        "  M2sotto = M2sotto_n/sin(beta-theta)\n",
        "  P_rappsotto, rho_rappsotto, T_rappsotto = obl_shk(Msotto, beta, gamma)\n",
        "\n",
        "  return Psopra*P_rappsopra - Psotto*P_rappsotto"
      ],
      "execution_count": 21,
      "outputs": []
    },
    {
      "cell_type": "code",
      "metadata": {
        "id": "8_kyphDJJlSI",
        "colab": {
          "base_uri": "https://localhost:8080/"
        },
        "outputId": "9a267719-4488-4e23-d9ee-2a3e03fe974d"
      },
      "source": [
        "if Pe > Pf:\n",
        "  print(\"caso 1\") \n",
        "  pippo = 1\n",
        "  # shock sopra, ventaglio di espansione sotto\n",
        "  data3 = (Mc, Pc, Tc, Me, Pe, Te, gamma, eps2, eps4)\n",
        "  Delta_slip = fsolve(case1, eps4, args = data3)\n",
        "  # ora mi calcolo tutti i dati \n",
        "  theta = eps2 + Delta_slip\n",
        "  beta_0 = 2*theta # 2 volte theta funge da first try\n",
        "  data = (theta, Mc, gamma)\n",
        "  beta = fsolve(obl_shk_ang, beta_0, args = data)\n",
        "  Mc_n = Mc*sin(beta)\n",
        "  M2sopra_n = obl_shk_M_n(Mc_n, gamma)\n",
        "  M2sopra = M2sopra_n/sin(beta-theta)\n",
        "  P_rappsopra, rho_rappsopra, T_rappsopra = obl_shk(Mc, beta, gamma)\n",
        "  beta5 = beta \n",
        "  \n",
        "  Mf = M2sopra \n",
        "  Pf = P_rappsopra*Pc\n",
        "  Tf = T_rappsopra*Tc\n",
        " \n",
        "  theta = Delta_slip - eps4\n",
        "  nu2 = theta + prandtl_meyer_angle(Me)\n",
        "  data2 = (gamma, nu2)\n",
        "  M2sotto = fsolve(M_from_nu, Me, args = data2)  # in questo caso M1 funge da \"first try\"\n",
        "  P_rappsotto, rho_rappsotto, T_rappsotto = isoentropic(Me, M2sotto, gamma)\n",
        " \n",
        "  Mg = M2sotto\n",
        "  Pg = P_rappsotto*Pe\n",
        "  Tg = T_rappsotto*Te\n",
        "elif Pc > Pg:\n",
        "  pippo = 2 \n",
        "  print(\"caso 2\")\n",
        "  # shock sotto, ventaglio di espansione sopr\n",
        "  data3 = (Me, Pe, Te, Mc, Pc, Tc, gamma, eps4, eps2)\n",
        "  Delta_slip = fsolve(case1, eps2, args = data3)\n",
        " \n",
        "  theta = -Delta_slip - eps2\n",
        "  nu2 = theta + prandtl_meyer_angle(Mc)\n",
        "  data2 = (gamma, nu2)\n",
        "  M2sopra = fsolve(M_from_nu, Mc, args = data2)  # in questo caso M1 funge da \"first try\"\n",
        "  P_rappsopra, rho_rappsopra, T_rappsopra = isoentropic(Mc, M2sopra, gamma)\n",
        " \n",
        "  Mf = M2sopra \n",
        "  Pf = P_rappsopra*Pc\n",
        "  Tf = T_rappsopra*Tc\n",
        " \n",
        "  theta = eps4 - Delta_slip\n",
        "  beta_0 = 2*theta # 2 volte theta funge da first try\n",
        "  data = (theta, Me, gamma)\n",
        "  beta = fsolve(obl_shk_ang, beta_0, args = data)\n",
        "  Msotto_n = Me*sin(beta)\n",
        "  M2sotto_n = obl_shk_M_n(Msotto_n, gamma)\n",
        "  M2sotto = M2sotto_n/sin(beta-theta)\n",
        "  P_rappsotto, rho_rappsotto, T_rappsotto = obl_shk(Me, beta, gamma)\n",
        "  beta6 = beta\n",
        " \n",
        "  Mg = M2sotto\n",
        "  Pg = P_rappsotto*Pe\n",
        "  Tg = T_rappsotto*Te\n",
        "else: \n",
        "  pippo = 3\n",
        "  print(\"caso 3\")\n",
        "  # Shock sopra e sotto\n",
        "  data3 = (Mc, Pc, Tc, Me, Pe, Te, gamma, eps2, eps4)\n",
        "  Delta_slip = fsolve(case3, 0, args = data3)\n",
        " \n",
        "  theta = eps2 + Delta_slip\n",
        "  beta_0 = 2*theta # 2 volte theta funge da first try\n",
        "  data = (theta, Mc, gamma)\n",
        "  beta = fsolve(obl_shk_ang, beta_0, args = data)\n",
        "  print(beta) \n",
        "  Msopra_n = Mc*sin(beta)\n",
        "  M2sopra_n = obl_shk_M_n(Msopra_n, gamma)\n",
        "  M2sopra = M2sopra_n/sin(beta-theta)\n",
        "  P_rappsopra, rho_rappsopra, T_rappsopra = obl_shk(Mc, beta, gamma)\n",
        "  beta7 = beta\n",
        " \n",
        "  Mf = M2sopra \n",
        "  Pf = P_rappsopra*Pc\n",
        "  Tf = T_rappsopra*Tc\n",
        " \n",
        "  theta = eps4 - Delta_slip\n",
        "  beta_0 = 2*theta # 2 volte theta funge da first try\n",
        "  data = (theta, Me, gamma)\n",
        "  beta = fsolve(obl_shk_ang, beta_0, args = data)\n",
        "  Msotto_n = Me*sin(beta)\n",
        "  M2sotto_n = obl_shk_M_n(Msotto_n, gamma)\n",
        "  M2sotto = M2sotto_n/sin(beta-theta)\n",
        "  P_rappsotto, rho_rappsotto, T_rappsotto = obl_shk(Me, beta, gamma)\n",
        "  beta8 = beta\n",
        " \n",
        "  Mg = M2sotto\n",
        "  Pg = P_rappsotto*Pe\n",
        "  Tg = T_rappsotto*Te"
      ],
      "execution_count": 22,
      "outputs": [
        {
          "output_type": "stream",
          "text": [
            "caso 3\n",
            "[0.68793369]\n"
          ],
          "name": "stdout"
        }
      ]
    },
    {
      "cell_type": "code",
      "metadata": {
        "id": "7i2T3sg-Yins",
        "colab": {
          "base_uri": "https://localhost:8080/"
        },
        "outputId": "b3cf65df-5e21-42a5-d28d-14e524c50698"
      },
      "source": [
        "print(Delta_slip*180/pi) # angolo della slip line rispetto all'orizzontale ----->x\n",
        "print(Mf)\n",
        "print(Pf)\n",
        "print(Mg)\n",
        "print(Pg)\n",
        "# we have just one shock on the top part \n",
        "print(beta*180/pi)\n",
        "print((beta-eps2)*180/pi) # angolo della shock wave rispetto all'orizzontale ----->x"
      ],
      "execution_count": 23,
      "outputs": [
        {
          "output_type": "stream",
          "text": [
            "[4.04754027]\n",
            "1.6747615094073696\n",
            "[100326.88954496]\n",
            "1.6803914064371444\n",
            "[100326.88954496]\n",
            "[37.1115065]\n",
            "[28.58074089]\n"
          ],
          "name": "stdout"
        }
      ]
    },
    {
      "cell_type": "code",
      "metadata": {
        "id": "E5KqUZTYQuRS"
      },
      "source": [
        "# find the velocity of a point inside the top expansion fan\n",
        "# Define fictional values of the point coordinstes\n",
        "#xp = 2\n",
        "#yp = 0.7\n",
        "#mu_p = atan((yp-y_top)/(xp-x_top))  # Mu of the point p\n",
        "#M_p = 1 / sin(mu_p)                 # Mach of the point p\n",
        "#P_rapp, rho_rapp, T_rapp = isoentropic(Mb, M_p, gamma)\n",
        "#P_p = P_rapp * Pb\n",
        "#T_p = T_rapp * Tb\n",
        "#c_p = sqrt(gamma*R*T_p)             # Speed of sound of the point p\n",
        "#v_p = M_p * c_p                     # Magnitude of the speed of the point p\n",
        "#vx_p, vy_p = v_p*cos(mu_p), v_p*(-sin(mu_p))\n"
      ],
      "execution_count": 24,
      "outputs": []
    },
    {
      "cell_type": "code",
      "metadata": {
        "id": "wGc0JKQAqcFf"
      },
      "source": [
        "# VENTAGLIO DI ESPANSIONE SU TOP DEL PRFILO \n",
        "xp = 0.711306 # x del punto \n",
        "yp = 0.220404 # y del punto\n",
        "xv = 0.5 # x del vertice del ventaglio di espansione \n",
        "yv = 0.1 # y del vertice del ventaglio di espansione \n",
        "M1 = 1.59 # Mach a monte del ventaglio di espansione \n",
        "P1 = 0 # Pressione a monte del ventaglio\n",
        "T1 = 0 # Temperatura a monte del ventaglio\n",
        "theta1 = eps1 # direzione della corrente prima del ventaglio (alpha, eps1, -eps2)\n",
        "k_minus = theta1 + prandtl_meyer_angle(M1)\n",
        "dy_dx = (yp-y_top)/(xp-x_top)\n",
        "\n",
        "def func1(x,*data):\n",
        "  dy_dx, k_minus = data\n",
        "  return [tan(x[0]+asin(1/x[1]))-dy_dx,\n",
        "          x[0]+prandtl_meyer_angle(x[1])-k_minus]   # x[0] = theta_p, x[1] = M_p\n",
        "\n",
        "data = (dy_dx, k_minus)\n",
        "[theta_p, M_p] = fsolve(func1, [theta1, M1], args = data)\n",
        "\n",
        "P_rapp, rho_rapp, T_rapp = isoentropic(M1, M_p, gamma)\n",
        "P_p = P_rapp * P1\n",
        "T_p = T_rapp * T1\n",
        "c_p = sqrt(gamma*R*T_p)             # Speed of sound of the point p\n",
        "v_p = M_p * c_p                     # Magnitude of the speed of the point p\n",
        "vx_p, vy_p = v_p*cos(theta_p), v_p*sin(theta_p)"
      ],
      "execution_count": 25,
      "outputs": []
    },
    {
      "cell_type": "code",
      "metadata": {
        "id": "0am6GnWhCyWm",
        "colab": {
          "base_uri": "https://localhost:8080/"
        },
        "outputId": "166a43c3-45f5-4c37-bca8-f2c1a52658b2"
      },
      "source": [
        "print(M_p)\n",
        "print(theta_p*180/pi)\n",
        "print(dy_dx*180/pi)"
      ],
      "execution_count": 26,
      "outputs": [
        {
          "output_type": "stream",
          "text": [
            "1.8319645163760534\n",
            "1.4490628913459236\n",
            "39.42640305680019\n"
          ],
          "name": "stdout"
        }
      ]
    },
    {
      "cell_type": "code",
      "metadata": {
        "id": "i7bG2ei5WtrQ"
      },
      "source": [
        "# find the velocity of a point inside the bottom expansion fan\n",
        "# Define fictional values of the point coordinstes\n",
        "#xp = 2\n",
        "#yp = -0.7\n",
        "#mu_p = - atan((yp-y_bot)/(xp-x_bot))  # Mu of the point p\n",
        "#M_p = 1 / sin(mu_p)                   # Mach of the point p\n",
        "#P_rapp, rho_rapp, T_rapp = isoentropic(Mb, M_p, gamma)\n",
        "#P_p = P_rapp * Pb\n",
        "#T_p = T_rapp * Tb\n",
        "#c_p = sqrt(gamma*R*T_p)               # Speed of sound of the point p\n",
        "#v_p = M_p * c_p                       # Magnitude of the speed of the point p\n",
        "#vx_p, vy_p = v_p*cos(mu_p), v_p*(sin(mu_p))\n"
      ],
      "execution_count": 27,
      "outputs": []
    },
    {
      "cell_type": "code",
      "metadata": {
        "id": "VHhpF8yYCCtY"
      },
      "source": [
        "# VENTAGLIO DI ESPANSIONE SU BOTTOM DEL PRFILO \n",
        "xp = 1.5 # x del punto \n",
        "yp = -0.4 # y del punto\n",
        "xv = 0.5 # x del vertice del ventaglio di espansione \n",
        "yv = -0.1 # y del vertice del ventaglio di espansione \n",
        "M1 = 1.59 # Mach a monte del ventaglio di espansione \n",
        "P1 = 0 # Pressione a monte del ventaglio\n",
        "T1 = 0 # Temperatura a monte del ventaglio\n",
        "theta1 = -eps3 # direzione della corrente prima del ventaglio (alpha, -eps3, eps4)\n",
        "k_plus = theta1 - prandtl_meyer_angle(M1)\n",
        "dy_dx = (yp-yv)/(xp-xv)\n",
        "\n",
        "def func2(x,*data):\n",
        "  dy_dx, k_plus = data\n",
        "  return [tan(x[0]-asin(1/x[1]))-dy_dx,\n",
        "          x[0]-prandtl_meyer_angle(x[1])-k_plus]   # x[0] = theta_p, x[1] = M_p\n",
        "\n",
        "data = (dy_dx, k_plus)\n",
        "[theta_p, M_p] = fsolve(func2, [theta1, M1], args = data)\n",
        "\n",
        "P_rapp, rho_rapp, T_rapp = isoentropic(M1, M_p, gamma)\n",
        "P_p = P_rapp * P1\n",
        "T_p = T_rapp * T1\n",
        "c_p = sqrt(gamma*R*T_p)             # Speed of sound of the point p\n",
        "v_p = M_p * c_p                     # Magnitude of the speed of the point p\n",
        "vx_p, vy_p = v_p*cos(theta_p), v_p*sin(theta_p)"
      ],
      "execution_count": 28,
      "outputs": []
    },
    {
      "cell_type": "code",
      "metadata": {
        "id": "uSSJuE0ODGHZ",
        "colab": {
          "base_uri": "https://localhost:8080/"
        },
        "outputId": "0557f862-0ea9-4fd7-ea58-28473faa8dde"
      },
      "source": [
        "print(M_p)\n",
        "print(theta_p*180/pi)\n",
        "print(dy_dx*180/pi)"
      ],
      "execution_count": 29,
      "outputs": [
        {
          "output_type": "stream",
          "text": [
            "2.243859819824991\n",
            "9.766369740147573\n",
            "-17.1887338539247\n"
          ],
          "name": "stdout"
        }
      ]
    },
    {
      "cell_type": "code",
      "metadata": {
        "id": "V3_Ab8_3tgXV",
        "colab": {
          "base_uri": "https://localhost:8080/"
        },
        "outputId": "38379e9b-42dc-4536-8b60-c73b66d74f97"
      },
      "source": [
        "print(\"TUTTI GLI ANGOLI SONO DATI RISPETTO ALL'ORIZZONTALE \")\n",
        "print(\"----->\")\n",
        "print(\"     x \\n\")\n",
        "\n",
        "print(\"Zone a - Ma = \" + str(Ma))\n",
        "print(\"Zone a - Pa = \" + str(Pa) + \" Pa\")\n",
        "print(\"Zone a - Ta = \" + str(Ta) + \" K\")\n",
        "print(\"Zone a - rhoa = \" + str(Pa/R/Ta) + \" Kg/m^3\")\n",
        "print(\"Zone a - Va = \" + str(Ma*sqrt(gamma*R*Ta)) + \" m/s \\n\")\n",
        "\n",
        "if eps1-alpha > 0:\n",
        "  print(\"Tra zona a e b ho shock con angolo beta = \" + str((beta1+alpha)*180/pi) + \" [deg]\\n\")\n",
        "else: \n",
        "  print(\"Tra zona a e b ho ventaglio con angoli: \")\n",
        "  print(\"Inizio ventaglio = \" + str((alpha+asin(1/Ma))*180/pi) +\" [deg]\")\n",
        "  print(\"Fine ventaglio = \" + str((eps1 + asin(1/Mb))*180/pi) + \" [deg]\\n\")\n",
        "\n",
        "print(\"Zone b - Mb = \" + str(Mb))\n",
        "print(\"Zone b - Pb = \" + str(Pb) + \" Pa\")\n",
        "print(\"Zone b - Tb = \" + str(Tb) + \" K\")\n",
        "print(\"Zone b - rhob = \" + str(Pb/R/Tb) + \" Kg/m^3\")\n",
        "print(\"Zone b - Vb = \" + str(Mb*sqrt(gamma*R*Tb)) + \" m/s \\n\")\n",
        "\n",
        "print(\"Tra zona b e c ho ventaglio con angoli: \")\n",
        "print(\"Inizio ventaglio = \" + str((eps1+asin(1/Mb))*180/pi) +\" [deg]\")\n",
        "print(\"Fine ventaglio = \" + str((-eps2 + asin(1/Mc))*180/pi) + \" [deg]\\n\")\n",
        "\n",
        "print(\"Zone c - Mc = \" + str(Mc))\n",
        "print(\"Zone c - Pc = \" + str(Pc) + \" Pa\")\n",
        "print(\"Zone c - Tc = \" + str(Tc) + \" K\")\n",
        "print(\"Zone c - rhoc = \" + str(Pc/R/Tc) + \" Kg/m^3\")\n",
        "print(\"Zone c - Vc = \" + str(Mc*sqrt(gamma*R*Tc)) + \" m/s \\n\")\n",
        "\n",
        "if eps3+alpha > 0:\n",
        "  print(\"Tra zona a e d ho shock con angolo beta = \" + str((-beta2+alpha)*180/pi) + \" [deg]\\n\")\n",
        "else: \n",
        "  print(\"Tra zona a e d ho ventaglio con angoli: \")\n",
        "  print(\"Inizio ventaglio = \" + str((alpha-asin(1/Ma))*180/pi) +\" [deg]\")\n",
        "  print(\"Fine ventaglio = \" + str((-eps3 - asin(1/Md))*180/pi) + \" [deg]\\n\")\n",
        "\n",
        "print(\"Zone d - Md = \" + str(Md))\n",
        "print(\"Zone d - Pd = \" + str(Pd) + \" Pa\")\n",
        "print(\"Zone d - Td = \" + str(Td) + \" K\")\n",
        "print(\"Zone d - rhod = \" + str(Pd/R/Td) + \" Kg/m^3\")\n",
        "print(\"Zone d - Vd = \" + str(Md*sqrt(gamma*R*Td)) + \" m/s \\n\")\n",
        "\n",
        "print(\"Tra zona d e e ho ventaglio con angoli: \")\n",
        "print(\"Inizio ventaglio = \" + str((-eps3 - asin(1/Md))*180/pi) +\" [deg]\")\n",
        "print(\"Fine ventaglio = \" + str((eps4 - asin(1/Me))*180/pi) + \" [deg]\\n\")\n",
        "\n",
        "print(\"Zone e - Me = \" + str(Me))\n",
        "print(\"Zone e - Pe = \" + str(Pe) + \" Pa\")\n",
        "print(\"Zone e - Te = \" + str(Te) + \" K\")\n",
        "print(\"Zone e - rhoe = \" + str(Pe/R/Te) + \" Kg/m^3\")\n",
        "print(\"Zone e - Ve = \" + str(Me*sqrt(gamma*R*Te)) + \" m/s \\n\")\n",
        "\n",
        "print(\"La slip line ha un angolo rispetto all'orizzontale di \" + str(Delta_slip*180/pi) + \" [deg]\\n\")\n",
        "if pippo == 1: \n",
        "  print(\"Tra zona c e f ho una shock con angolo rispetto all'orizzontale di \" + str((beta5-eps2)*180/pi) + \" [deg]\\n\")\n",
        "  print(\"Tra zona e e g ho un ventaglio:\")\n",
        "  print(\"Inizio ventaglio = \" + str((eps4 - asin(1/Me))*180/pi) +\" [deg]\")\n",
        "  print(\"Fine ventaglio = \" + str((Delta_slip - asin(1/Mg))*180/pi) + \" [deg]\\n\")\n",
        "elif pippo == 2:\n",
        "  print(\"Tra zona c e f ho un ventaglio:\")\n",
        "  print(\"Inizio ventaglio = \" + str((-eps2 + asin(1/Mc))*180/pi) +\" [deg]\")\n",
        "  print(\"Fine ventaglio = \" + str((Delta_slip + asin(1/Mf))*180/pi) + \" [deg]\\n\")\n",
        "  print(\"Tra zona e e g ho una shock con angolo rispetto all'orizzontale di \" + str((-beta6+eps4)*180/pi) + \" [deg]\\n\")\n",
        "elif pippo == 3: \n",
        "  print(\"Tra zona c e f ho una shock con angolo rispetto all'orizzontale di \" + str((beta7-eps2)*180/pi) + \" [deg]\\n\")\n",
        "  print(\"Tra zona e e g ho una shock con angolo rispetto all'orizzontale di \" + str((-beta8+eps4)*180/pi) + \" [deg]\\n\")\n",
        "\n",
        "\n",
        "print(\"Zone f - Mf = \" + str(Mf))\n",
        "print(\"Zone f - Pf = \" + str(Pf) + \" Pa\")\n",
        "print(\"Zone f - Tf = \" + str(Tf) + \" K\")\n",
        "print(\"Zone f - rhof = \" + str(Pf/R/Tf) + \" Kg/m^3\")\n",
        "print(\"Zone f - Vf = \" + str(Mf*sqrt(gamma*R*Tf)) + \" m/s \\n\")\n",
        "\n",
        "print(\"Zone g - Mg = \" + str(Mg))\n",
        "print(\"Zone g - Pg = \" + str(Pg) + \" Pa\")\n",
        "print(\"Zone g - Tg = \" + str(Tg) + \" K\")\n",
        "print(\"Zone g - rhog = \" + str(Pg/R/Tg) + \" Kg/m^3\")\n",
        "print(\"Zone g - Vg = \" + str(Mg*sqrt(gamma*R*Tg)) + \" m/s \\n\")"
      ],
      "execution_count": 30,
      "outputs": [
        {
          "output_type": "stream",
          "text": [
            "TUTTI GLI ANGOLI SONO DATI RISPETTO ALL'ORIZZONTALE \n",
            "----->\n",
            "     x \n",
            "\n",
            "Zone a - Ma = 1.7\n",
            "Zone a - Pa = 100000.0 Pa\n",
            "Zone a - Ta = 300 K\n",
            "Zone a - rhoa = 1.161205517119653 Kg/m^3\n",
            "Zone a - Va = 590.2804421628757 m/s \n",
            "\n",
            "Tra zona a e b ho shock con angolo beta = [44.52070243] [deg]\n",
            "\n",
            "Zone b - Mb = 1.5456051954431185\n",
            "Zone b - Pb = 125664.75703695357 Pa\n",
            "Zone b - Tb = 320.3455814972266 K\n",
            "Zone b - rhob = 1.3665486675058873 Kg/m^3\n",
            "Zone b - Vb = 554.5705246999555 m/s \n",
            "\n",
            "Tra zona b e c ho ventaglio con angoli: \n",
            "Inizio ventaglio = 48.84624136063115 [deg]\n",
            "Fine ventaglio = 19.246825753119737 [deg]\n",
            "\n",
            "Zone c - Mc = [2.14573561]\n",
            "Zone c - Pc = [50191.5478086] Pa\n",
            "Zone c - Tc = [246.45515557] K\n",
            "Zone c - rhoc = [0.70945201] Kg/m^3\n",
            "Zone c - Vc = [675.29573675] m/s \n",
            "\n",
            "Tra zona a e d ho shock con angolo beta = [-47.05026778] [deg]\n",
            "\n",
            "Zone d - Md = 1.2443868117336667\n",
            "Zone d - Pd = 187256.40349447637 Pa\n",
            "Zone d - Td = 361.45690291412205 K\n",
            "Zone d - rhod = 1.8047227796789245 Kg/m^3\n",
            "Zone d - Vd = 474.27748306549995 m/s \n",
            "\n",
            "Tra zona d e e ho ventaglio con angoli: \n",
            "Inizio ventaglio = -62.0068632254207 [deg]\n",
            "Fine ventaglio = -24.483016569134346 [deg]\n",
            "\n",
            "Zone e - Me = [1.83539867]\n",
            "Zone e - Pe = [79365.52268568] Pa\n",
            "Zone e - Te = [282.84002487] K\n",
            "Zone e - rhoe = [0.97751034] Kg/m^3\n",
            "Zone e - Ve = [618.79912523] m/s \n",
            "\n",
            "La slip line ha un angolo rispetto all'orizzontale di [4.04754027] [deg]\n",
            "\n",
            "Tra zona c e f ho una shock con angolo rispetto all'orizzontale di [30.88493144] [deg]\n",
            "\n",
            "Tra zona e e g ho una shock con angolo rispetto all'orizzontale di [-28.58074089] [deg]\n",
            "\n",
            "Zone f - Mf = 1.6747615094073696\n",
            "Zone f - Pf = [100326.88954496] Pa\n",
            "Zone f - Tf = [303.27389305] K\n",
            "Zone f - rhof = [1.15242499] Kg/m^3\n",
            "Zone f - Vf = 584.6814688859065 m/s \n",
            "\n",
            "Zone g - Mg = 1.6803914064371444\n",
            "Zone g - Pg = [100326.88954496] Pa\n",
            "Zone g - Tg = [302.54168456] K\n",
            "Zone g - rhog = [1.15521408] Kg/m^3\n",
            "Zone g - Vg = 585.9383279735564 m/s \n",
            "\n"
          ],
          "name": "stdout"
        }
      ]
    }
  ]
}